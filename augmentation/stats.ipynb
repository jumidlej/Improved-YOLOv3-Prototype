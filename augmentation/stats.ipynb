{
 "cells": [
  {
   "cell_type": "code",
   "execution_count": 1,
   "id": "economic-cambridge",
   "metadata": {},
   "outputs": [],
   "source": [
    "import cv2\n",
    "import xml.etree.ElementTree as ET\n",
    "from os import listdir\n",
    "\n",
    "excluded = [\"text\"]"
   ]
  },
  {
   "cell_type": "code",
   "execution_count": 2,
   "id": "educational-desire",
   "metadata": {},
   "outputs": [],
   "source": [
    "'''\n",
    "Argument: Labels path (.xml)\n",
    "Returns: List of xml files\n",
    "'''\n",
    "def list_xml_files(path=None):\n",
    "    if path == None:\n",
    "        print(\"Nenhuma pasta foi especificada.\")\n",
    "        return 0\n",
    "\n",
    "    xml_files = []\n",
    "    files = [f for f in listdir(path)]\n",
    "    for f in files:\n",
    "        if f[len(f)-4:] == \".xml\":\n",
    "            xml_files.append(f)\n",
    "\n",
    "    return xml_files"
   ]
  },
  {
   "cell_type": "code",
   "execution_count": 3,
   "id": "sudden-jenny",
   "metadata": {},
   "outputs": [],
   "source": [
    "'''\n",
    "Argument: Images path (.jpg)\n",
    "Returns: List of images name\n",
    "'''\n",
    "def list_images_name(path=None):\n",
    "    if path == None:\n",
    "        print(\"Nenhuma pasta foi especificada.\")\n",
    "        return 0\n",
    "\n",
    "    images = []\n",
    "    files = [f for f in listdir(path)]\n",
    "    for f in files:\n",
    "        if f[len(f)-4:] == \".jpg\":\n",
    "            images.append(f[:-4])\n",
    "\n",
    "    return images"
   ]
  },
  {
   "cell_type": "code",
   "execution_count": 4,
   "id": "grave-albuquerque",
   "metadata": {},
   "outputs": [],
   "source": [
    "'''\n",
    "Argument: xml file\n",
    "Returns: Set with all the components of this file\n",
    "'''\n",
    "def normalization_v1(pascal_labels_path, xml, dic):\n",
    "    tree = ET.parse(pascal_labels_path+xml)\n",
    "    root = tree.getroot()\n",
    "\n",
    "    components = []\n",
    "\n",
    "    for child in root.findall(\"object\"):\n",
    "        components.append(child[0].text)\n",
    "\n",
    "    # verifica: se tem aspas -> pega o que tem dentro\n",
    "    # se não for, verifica se é connector Port\n",
    "    # se não for, pega a primeira palavra\n",
    "    for i in range(len(components)):\n",
    "        quotes = components[i].split('\"')\n",
    "        if len(quotes)>=3 and quotes[0]==\"connector \" and quotes[1].split()[0]==\"Port\":\n",
    "            print(components[i])\n",
    "            components[i] = \"connectorPort\"\n",
    "        elif len(quotes)>=3 and components[i][0]=='\"':\n",
    "            components[i] = quotes[1]\n",
    "        else:\n",
    "            components[i] = components[i].split()[0]\n",
    "        \n",
    "        if components[i] not in dic:\n",
    "            dic[components[i]] = 1\n",
    "        else:\n",
    "            dic[components[i]] += 1\n",
    "    \n",
    "    return dic"
   ]
  },
  {
   "cell_type": "code",
   "execution_count": 5,
   "id": "qualified-staff",
   "metadata": {},
   "outputs": [],
   "source": [
    "'''\n",
    "Argument: xml file\n",
    "Returns: Set with all the components of this file\n",
    "'''\n",
    "def normalization_v2(pascal_labels_path, xml, dic):\n",
    "    tree = ET.parse(pascal_labels_path+xml)\n",
    "    root = tree.getroot()\n",
    "\n",
    "    components = []\n",
    "\n",
    "    for child in root.findall(\"object\"):\n",
    "        components.append(child[0].text)\n",
    "\n",
    "    # verifica se é connector Port\n",
    "    # se não, pega a primeira palavra\n",
    "    for i in range(len(components)):\n",
    "        words = components[i].split()\n",
    "        if len(words)>=2:\n",
    "            if words[0]+words[1]=='connector\"Port':\n",
    "                print(components[i])\n",
    "                components[i] = \"connectorPort\"\n",
    "            else:\n",
    "                if '\"' in words[0]:\n",
    "                    components[i] = words[0].split('\"')[1]\n",
    "                else:\n",
    "                    components[i] = words[0]\n",
    "        else:\n",
    "            components[i] = words[0]\n",
    "            \n",
    "        if components[i] not in dic:\n",
    "            dic[components[i]] = 1\n",
    "        else:\n",
    "            dic[components[i]] += 1\n",
    "\n",
    "    # print(components)\n",
    "    \n",
    "    return dic"
   ]
  },
  {
   "cell_type": "code",
   "execution_count": 6,
   "id": "hourly-festival",
   "metadata": {},
   "outputs": [],
   "source": [
    "'''\n",
    "Argument: List of xml files\n",
    "Does: A classes.txt file with all components of all xml_files\n",
    "'''\n",
    "def normalization(pascal_labels_path, xml_files):\n",
    "    # create a empty set\n",
    "    components = set()\n",
    "    dic = {}\n",
    "    for xml in xml_files:\n",
    "        dic = normalization_v2(pascal_labels_path, xml, dic)\n",
    "    \n",
    "    classes = open(\"classes.txt\", \"w\")\n",
    "    for component in sorted(dic):\n",
    "        classes.write(component+\"\\n\")\n",
    "\n",
    "    classes.close()\n",
    "    return dic"
   ]
  },
  {
   "cell_type": "code",
   "execution_count": 7,
   "id": "three-investigation",
   "metadata": {},
   "outputs": [],
   "source": [
    "xml_files = list_xml_files(\"/home/jacq/Documentos/Datasets/pcb_pascal/labels/\")"
   ]
  },
  {
   "cell_type": "code",
   "execution_count": 8,
   "id": "olympic-station",
   "metadata": {},
   "outputs": [
    {
     "name": "stdout",
     "output_type": "stream",
     "text": [
      "connector \"Port 4\"\n",
      "connector \"Port 3\"\n",
      "connector\t\"Port 2\"\n",
      "connector \"Port 1\"\n"
     ]
    }
   ],
   "source": [
    "dic_components = normalization(\"/home/jacq/Documentos/Datasets/pcb_pascal/labels/\", xml_files)"
   ]
  },
  {
   "cell_type": "code",
   "execution_count": 9,
   "id": "endless-cincinnati",
   "metadata": {},
   "outputs": [],
   "source": [
    "sorted_dic = {}\n",
    "for item in sorted(dic_components):\n",
    "    sorted_dic[item] = dic_components[item] "
   ]
  },
  {
   "cell_type": "code",
   "execution_count": 10,
   "id": "accompanied-contribution",
   "metadata": {},
   "outputs": [
    {
     "data": {
      "text/plain": [
       "{'battery': 1,\n",
       " 'button': 85,\n",
       " 'buzzer': 1,\n",
       " 'capacitor': 2534,\n",
       " 'clock': 37,\n",
       " 'component': 995,\n",
       " 'connector': 617,\n",
       " 'connectorPort': 4,\n",
       " 'diode': 72,\n",
       " 'display': 5,\n",
       " 'electrolytic': 246,\n",
       " 'emi': 51,\n",
       " 'ferrite': 30,\n",
       " 'fuse': 7,\n",
       " 'heatsink': 4,\n",
       " 'ic': 386,\n",
       " 'inductor': 69,\n",
       " 'jumper': 85,\n",
       " 'led': 214,\n",
       " 'pads': 332,\n",
       " 'pins': 317,\n",
       " 'potentiometer': 7,\n",
       " 'resistor': 2191,\n",
       " 'switch': 58,\n",
       " 'test': 292,\n",
       " 'text': 9190,\n",
       " 'transformer': 1,\n",
       " 'transistor': 84,\n",
       " 'unknown': 281,\n",
       " 'zener': 5}"
      ]
     },
     "execution_count": 10,
     "metadata": {},
     "output_type": "execute_result"
    }
   ],
   "source": [
    "sorted_dic"
   ]
  },
  {
   "cell_type": "code",
   "execution_count": 52,
   "id": "flying-oklahoma",
   "metadata": {},
   "outputs": [],
   "source": [
    "# problems: connector Port, connector e components"
   ]
  },
  {
   "cell_type": "code",
   "execution_count": 53,
   "id": "valuable-answer",
   "metadata": {},
   "outputs": [],
   "source": [
    "# problem: pq treinar components?"
   ]
  },
  {
   "cell_type": "code",
   "execution_count": 54,
   "id": "descending-leonard",
   "metadata": {},
   "outputs": [],
   "source": [
    "'''\n",
    "Argument: A classes.txt file\n",
    "Does: A labels.txt file with all components that are not excluded or repeated\n",
    "Returns: A components dictionary in which components have a respective number\n",
    "'''\n",
    "def components_dictionary(classes_file, excluded, repeated):\n",
    "    components_dict = {}\n",
    "\n",
    "    classes = open(classes_file, \"r\")\n",
    "    labels = open(\"labels.txt\", \"w\")\n",
    "    component_number = 0\n",
    "    for component in classes:\n",
    "        if component[:-1] not in excluded:\n",
    "            if component[:-1] in repeated:\n",
    "                component_number -= 1\n",
    "                components_dict[component[:-1]] = component_number\n",
    "            else:\n",
    "                components_dict[component[:-1]] = component_number\n",
    "                labels.write(component)\n",
    "            component_number += 1\n",
    "\n",
    "    labels.close()\n",
    "    classes.close()\n",
    "\n",
    "    return components_dict"
   ]
  },
  {
   "cell_type": "code",
   "execution_count": 55,
   "id": "prerequisite-twins",
   "metadata": {},
   "outputs": [],
   "source": [
    "def pascal_to_yolo_v1(yolo_images_path, yolo_labels_path, pascal_labels_path, images_name, components_dict):\n",
    "    for name in images_name:\n",
    "        image = cv2.imread(yolo_images_path+name+\".jpg\")\n",
    "        yolo = open(yolo_labels_path+name+\".txt\", 'w')\n",
    "\n",
    "        tree = ET.parse(pascal_labels_path+name+\".xml\")\n",
    "        root = tree.getroot()\n",
    "\n",
    "        for child in root.findall(\"object\"):\n",
    "            component_name = child[0].text\n",
    "\n",
    "            quotes = component_name.split('\"')\n",
    "            if len(quotes)>=3 and quotes[0]==\"connector \" and quotes[1].split()[0]==\"Port\":\n",
    "                component_name = \"connectorPort\"\n",
    "                # print(component_name)\n",
    "            elif len(quotes)>=3 and component_name[0]=='\"':\n",
    "                component_name = quotes[1]\n",
    "            else:\n",
    "                component_name = component_name.split()[0]\n",
    "\n",
    "            xmin = int(child[4][0].text)\n",
    "            ymin = int(child[4][1].text)\n",
    "            xmax = int(child[4][2].text)\n",
    "            ymax = int(child[4][3].text)\n",
    "\n",
    "            #print(image.shape)\n",
    "            px = image.shape[1]\n",
    "            py = image.shape[0]\n",
    "\n",
    "            # cálculo pro quadradinho ser igual o do yolo\n",
    "            # ponto no centro, altura e largura, dividos pelo tamanho da imagem\n",
    "            X = ((xmax+xmin)/2)/px\n",
    "            Y = ((ymax+ymin)/2)/py\n",
    "            W = (xmax-xmin)/px\n",
    "            H = (ymax-ymin)/py\n",
    "\n",
    "            if component_name not in excluded:\n",
    "                yolo.write(str(components_dict[component_name])+\" \"+str(X)+\" \"+str(Y)+\" \"+str(W)+\" \"+str(H)+\"\\n\")\n",
    "\n",
    "        yolo.close()"
   ]
  },
  {
   "cell_type": "code",
   "execution_count": 56,
   "id": "spatial-mobile",
   "metadata": {},
   "outputs": [],
   "source": [
    "'''\n",
    "Arguments: List of images name, dictionary with components and its numbers\n",
    "Does: A .txt file to every image in yolo format\n",
    "'''\n",
    "def pascal_to_yolo_v2(yolo_images_path, yolo_labels_path, pascal_labels_path, images_name, components_dict):\n",
    "    for name in images_name:\n",
    "        image = cv2.imread(yolo_images_path+name+\".jpg\")\n",
    "        yolo = open(yolo_labels_path+name+\".txt\", 'w')\n",
    "\n",
    "        tree = ET.parse(pascal_labels_path+name+\".xml\")\n",
    "        root = tree.getroot()\n",
    "\n",
    "        for child in root.findall(\"object\"):\n",
    "            component_name = child[0].text\n",
    "\n",
    "            words = component_name.split()\n",
    "            if len(words)>=2:\n",
    "                if words[0]+words[1]=='connector\"Port':\n",
    "                    print(component_name)\n",
    "                    component_name = \"connectorPort\"\n",
    "                else:\n",
    "                    if '\"' in words[0]:\n",
    "                        component_name = words[0].split('\"')[1]\n",
    "                    else:\n",
    "                        component_name = words[0]\n",
    "            else:\n",
    "                component_name = words[0]\n",
    "\n",
    "            xmin = int(child[4][0].text)\n",
    "            ymin = int(child[4][1].text)\n",
    "            xmax = int(child[4][2].text)\n",
    "            ymax = int(child[4][3].text)\n",
    "\n",
    "            #print(image.shape)\n",
    "            px = image.shape[1]\n",
    "            py = image.shape[0]\n",
    "\n",
    "            # cálculo pro quadradinho ser igual o do yolo\n",
    "            # ponto no centro, altura e largura, dividos pelo tamanho da imagem\n",
    "            X = ((xmax+xmin)/2)/px\n",
    "            Y = ((ymax+ymin)/2)/py\n",
    "            W = (xmax-xmin)/px\n",
    "            H = (ymax-ymin)/py\n",
    "\n",
    "            if component_name not in excluded:\n",
    "                yolo.write(str(components_dict[component_name])+\" \"+str(X)+\" \"+str(Y)+\" \"+str(W)+\" \"+str(H)+\"\\n\")\n",
    "\n",
    "        yolo.close()"
   ]
  },
  {
   "cell_type": "code",
   "execution_count": 57,
   "id": "thirty-distribution",
   "metadata": {},
   "outputs": [],
   "source": [
    "components_dict = components_dictionary(\"classes.txt\",[\"text\"], [])"
   ]
  },
  {
   "cell_type": "code",
   "execution_count": 58,
   "id": "boxed-examination",
   "metadata": {},
   "outputs": [
    {
     "data": {
      "text/plain": [
       "{'battery': 0,\n",
       " 'button': 1,\n",
       " 'buzzer': 2,\n",
       " 'capacitor': 3,\n",
       " 'clock': 4,\n",
       " 'component': 5,\n",
       " 'connector': 6,\n",
       " 'connectorPort': 7,\n",
       " 'diode': 8,\n",
       " 'display': 9,\n",
       " 'electrolytic': 10,\n",
       " 'emi': 11,\n",
       " 'ferrite': 12,\n",
       " 'fuse': 13,\n",
       " 'heatsink': 14,\n",
       " 'ic': 15,\n",
       " 'inductor': 16,\n",
       " 'jumper': 17,\n",
       " 'led': 18,\n",
       " 'pads': 19,\n",
       " 'pins': 20,\n",
       " 'potentiometer': 21,\n",
       " 'resistor': 22,\n",
       " 'switch': 23,\n",
       " 'test': 24,\n",
       " 'transformer': 25,\n",
       " 'transistor': 26,\n",
       " 'unknown': 27,\n",
       " 'zener': 28}"
      ]
     },
     "execution_count": 58,
     "metadata": {},
     "output_type": "execute_result"
    }
   ],
   "source": [
    "components_dict"
   ]
  },
  {
   "cell_type": "code",
   "execution_count": 59,
   "id": "tender-decline",
   "metadata": {},
   "outputs": [],
   "source": [
    "images = list_images_name(\"/home/jacq/Documentos/Datasets/pcb_pascal/images/\")"
   ]
  },
  {
   "cell_type": "code",
   "execution_count": 60,
   "id": "acute-kitchen",
   "metadata": {},
   "outputs": [
    {
     "data": {
      "text/plain": [
       "47"
      ]
     },
     "execution_count": 60,
     "metadata": {},
     "output_type": "execute_result"
    }
   ],
   "source": [
    "len(images)"
   ]
  },
  {
   "cell_type": "code",
   "execution_count": 61,
   "id": "alike-royal",
   "metadata": {},
   "outputs": [
    {
     "name": "stdout",
     "output_type": "stream",
     "text": [
      "connector \"Port 4\"\n",
      "connector \"Port 3\"\n",
      "connector\t\"Port 2\"\n",
      "connector \"Port 1\"\n"
     ]
    }
   ],
   "source": [
    "pascal_labels_path = \"/home/jacq/Documentos/Datasets/pcb_pascal/labels/\"\n",
    "yolo_images_path = \"/home/jacq/Documentos/Datasets/pcb_yolo/images/\"\n",
    "yolo_labels_path = \"/home/jacq/Documentos/Datasets/pcb_yolo/labels/\"\n",
    "pascal_to_yolo_labelImg(yolo_images_path, yolo_labels_path, pascal_labels_path, images, components_dict)"
   ]
  },
  {
   "cell_type": "code",
   "execution_count": 85,
   "id": "coral-cotton",
   "metadata": {},
   "outputs": [],
   "source": [
    "def stats_database(file, components_dict):\n",
    "    file = open(file)\n",
    "    \n",
    "    stats_dict = {}\n",
    "    \n",
    "    for item in components_dict:\n",
    "        stats_dict[str(components_dict[item])] = 0\n",
    "        \n",
    "#     print(stats_dict)\n",
    "    \n",
    "    for line in file:\n",
    "        line = line.split()\n",
    "        line = line[1:]\n",
    "        for component in line:\n",
    "            component = component.split(\",\")\n",
    "            stats_dict[str(component[4])]+=1\n",
    "            \n",
    "    for item in components_dict:\n",
    "        components_dict[item] = stats_dict[str(components_dict[item])] \n",
    "            \n",
    "    return components_dict"
   ]
  },
  {
   "cell_type": "code",
   "execution_count": 86,
   "id": "described-stopping",
   "metadata": {},
   "outputs": [
    {
     "data": {
      "text/plain": [
       "{'battery': 0,\n",
       " 'button': 1,\n",
       " 'buzzer': 2,\n",
       " 'capacitor': 3,\n",
       " 'clock': 4,\n",
       " 'component': 5,\n",
       " 'connector': 6,\n",
       " 'connectorPort': 7,\n",
       " 'diode': 8,\n",
       " 'display': 9,\n",
       " 'electrolytic': 10,\n",
       " 'emi': 11,\n",
       " 'ferrite': 12,\n",
       " 'fuse': 13,\n",
       " 'heatsink': 14,\n",
       " 'ic': 15,\n",
       " 'inductor': 16,\n",
       " 'jumper': 17,\n",
       " 'led': 18,\n",
       " 'pads': 19,\n",
       " 'pins': 20,\n",
       " 'potentiometer': 21,\n",
       " 'resistor': 22,\n",
       " 'switch': 23,\n",
       " 'test': 24,\n",
       " 'transformer': 25,\n",
       " 'transistor': 26,\n",
       " 'unknown': 27,\n",
       " 'zener': 28}"
      ]
     },
     "execution_count": 86,
     "metadata": {},
     "output_type": "execute_result"
    }
   ],
   "source": [
    "components_dict"
   ]
  },
  {
   "cell_type": "code",
   "execution_count": 87,
   "id": "extensive-energy",
   "metadata": {},
   "outputs": [
    {
     "data": {
      "text/plain": [
       "{'battery': 32,\n",
       " 'button': 2720,\n",
       " 'buzzer': 32,\n",
       " 'capacitor': 81088,\n",
       " 'clock': 1184,\n",
       " 'component': 19776,\n",
       " 'connector': 96,\n",
       " 'connectorPort': 2304,\n",
       " 'diode': 160,\n",
       " 'display': 7872,\n",
       " 'electrolytic': 1632,\n",
       " 'emi': 960,\n",
       " 'ferrite': 224,\n",
       " 'fuse': 128,\n",
       " 'heatsink': 12352,\n",
       " 'ic': 2208,\n",
       " 'inductor': 2720,\n",
       " 'jumper': 6848,\n",
       " 'led': 10624,\n",
       " 'pads': 10144,\n",
       " 'pins': 224,\n",
       " 'potentiometer': 70112,\n",
       " 'resistor': 1856,\n",
       " 'switch': 9344,\n",
       " 'test': 32,\n",
       " 'transformer': 2688,\n",
       " 'transistor': 8992,\n",
       " 'unknown': 160,\n",
       " 'zener': 0}"
      ]
     },
     "execution_count": 87,
     "metadata": {},
     "output_type": "execute_result"
    }
   ],
   "source": [
    "stats_database(\"train_augmented.txt\", components_dict)"
   ]
  },
  {
   "cell_type": "code",
   "execution_count": null,
   "id": "laden-passion",
   "metadata": {},
   "outputs": [],
   "source": []
  }
 ],
 "metadata": {
  "kernelspec": {
   "display_name": "Python (tf)",
   "language": "python",
   "name": "tf"
  },
  "language_info": {
   "codemirror_mode": {
    "name": "ipython",
    "version": 3
   },
   "file_extension": ".py",
   "mimetype": "text/x-python",
   "name": "python",
   "nbconvert_exporter": "python",
   "pygments_lexer": "ipython3",
   "version": "3.8.5"
  }
 },
 "nbformat": 4,
 "nbformat_minor": 5
}
